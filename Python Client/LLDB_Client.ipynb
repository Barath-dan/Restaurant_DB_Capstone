{
 "cells": [
  {
   "cell_type": "code",
   "execution_count": 1,
   "id": "4874647b-087b-4d55-ab80-fe24b408163a",
   "metadata": {},
   "outputs": [
    {
     "name": "stdout",
     "output_type": "stream",
     "text": [
      "Requirement already satisfied: mysql-connector-python in c:\\users\\barath kumar\\anaconda3\\lib\\site-packages (9.0.0)\n"
     ]
    }
   ],
   "source": [
    "!pip install mysql-connector-python"
   ]
  },
  {
   "cell_type": "code",
   "execution_count": 3,
   "id": "a8d93699-1945-4c68-aff7-b9f57120a751",
   "metadata": {},
   "outputs": [],
   "source": [
    "import mysql.connector as connector"
   ]
  },
  {
   "cell_type": "code",
   "execution_count": 13,
   "id": "fa098211-8c81-41b5-a54e-d315ee299f2f",
   "metadata": {},
   "outputs": [],
   "source": [
    "connection=connector.connect(user = 'root', password = 'Barath@01', db = 'littlelemondb')\n",
    "cursor=connection.cursor()"
   ]
  },
  {
   "cell_type": "code",
   "execution_count": 21,
   "id": "e72696f5-1e2e-4ece-b1b3-6cf180cf93ee",
   "metadata": {},
   "outputs": [],
   "source": [
    "show_query=\"SHOW tables\"\n",
    "cursor.execute(show_query)"
   ]
  },
  {
   "cell_type": "code",
   "execution_count": 23,
   "id": "06d5e026-f761-4d09-b83c-d540a0042ca0",
   "metadata": {},
   "outputs": [
    {
     "data": {
      "text/plain": [
       "[('bookings',),\n",
       " ('customer',),\n",
       " ('menu',),\n",
       " ('order_delivery_status',),\n",
       " ('orders',),\n",
       " ('ordersview',),\n",
       " ('staff',)]"
      ]
     },
     "execution_count": 23,
     "metadata": {},
     "output_type": "execute_result"
    }
   ],
   "source": [
    "results=cursor.fetchall()\n",
    "results"
   ]
  },
  {
   "cell_type": "code",
   "execution_count": 29,
   "id": "4e827793-e97e-4e8d-9269-a91dab9eafe1",
   "metadata": {},
   "outputs": [],
   "source": [
    "join_query=\"\"\"SELECT CONCAT(customer.First_Name,' ',customer.Last_Name) AS Customer_Name,customer.Mobile_Number,customer.Email,\n",
    "orders.Total_Cost FROM customer INNER JOIN orders ON\n",
    "customer.Customer_ID=orders.Customer_ID\n",
    "WHERE orders.Total_Cost>60;\"\"\"\n",
    "cursor.execute(join_query)"
   ]
  },
  {
   "cell_type": "code",
   "execution_count": 31,
   "id": "5ff7cfc5-2c38-4ce3-a3e9-1e6ecbe54310",
   "metadata": {},
   "outputs": [],
   "source": [
    "result2=cursor.fetchall()"
   ]
  },
  {
   "cell_type": "code",
   "execution_count": 39,
   "id": "aee704d5-120f-48b3-bac5-db6b1aaf9841",
   "metadata": {},
   "outputs": [],
   "source": [
    "columns=[description[0] for description in cursor.description]"
   ]
  },
  {
   "cell_type": "code",
   "execution_count": 43,
   "id": "0a855ccd-9773-46eb-ab59-04add537503e",
   "metadata": {},
   "outputs": [
    {
     "name": "stdout",
     "output_type": "stream",
     "text": [
      "['Customer_Name', 'Mobile_Number', 'Email', 'Total_Cost']\n",
      "('Jane Smith', '234-567-8901', 'jane.smith@example.com', 75)\n",
      "('Emily Davis', '456-789-0123', 'emily.d@example.com', 100)\n",
      "('Sarah Wilson', '678-901-2345', 'sarah.w@example.com', 90)\n",
      "('James Clark', '901-234-5678', 'james.c@example.com', 80)\n"
     ]
    }
   ],
   "source": [
    "print(columns)\n",
    "for i in result2:\n",
    "    print(i)"
   ]
  },
  {
   "cell_type": "code",
   "execution_count": 45,
   "id": "04e29b68-017c-49e8-9aef-ecb8471d5a29",
   "metadata": {},
   "outputs": [],
   "source": [
    "cursor.close()\n",
    "connection.close()"
   ]
  },
  {
   "cell_type": "code",
   "execution_count": null,
   "id": "f53a7353-da4c-47ff-b18e-e9517985e37b",
   "metadata": {},
   "outputs": [],
   "source": []
  }
 ],
 "metadata": {
  "kernelspec": {
   "display_name": "Python 3 (ipykernel)",
   "language": "python",
   "name": "python3"
  },
  "language_info": {
   "codemirror_mode": {
    "name": "ipython",
    "version": 3
   },
   "file_extension": ".py",
   "mimetype": "text/x-python",
   "name": "python",
   "nbconvert_exporter": "python",
   "pygments_lexer": "ipython3",
   "version": "3.12.4"
  }
 },
 "nbformat": 4,
 "nbformat_minor": 5
}
